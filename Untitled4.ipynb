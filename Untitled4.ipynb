{
  "nbformat": 4,
  "nbformat_minor": 0,
  "metadata": {
    "colab": {
      "provenance": [],
      "authorship_tag": "ABX9TyPVxp2gwu4NVTrjWTsNtobk",
      "include_colab_link": true
    },
    "kernelspec": {
      "name": "python3",
      "display_name": "Python 3"
    },
    "language_info": {
      "name": "python"
    }
  },
  "cells": [
    {
      "cell_type": "markdown",
      "metadata": {
        "id": "view-in-github",
        "colab_type": "text"
      },
      "source": [
        "<a href=\"https://colab.research.google.com/github/Soyaskar/AI-lab/blob/main/Untitled4.ipynb\" target=\"_parent\"><img src=\"https://colab.research.google.com/assets/colab-badge.svg\" alt=\"Open In Colab\"/></a>"
      ]
    },
    {
      "cell_type": "code",
      "execution_count": 1,
      "metadata": {
        "colab": {
          "base_uri": "https://localhost:8080/",
          "height": 384
        },
        "id": "NkSlhRC-CryT",
        "outputId": "82d31621-3e50-4c89-ec1c-da612e5370e5"
      },
      "outputs": [
        {
          "output_type": "error",
          "ename": "ModuleNotFoundError",
          "evalue": "No module named 'skfuzzy'",
          "traceback": [
            "\u001b[0;31m---------------------------------------------------------------------------\u001b[0m",
            "\u001b[0;31mModuleNotFoundError\u001b[0m                       Traceback (most recent call last)",
            "\u001b[0;32m<ipython-input-1-76b975cc7d5f>\u001b[0m in \u001b[0;36m<cell line: 2>\u001b[0;34m()\u001b[0m\n\u001b[1;32m      1\u001b[0m \u001b[0;32mimport\u001b[0m \u001b[0mnumpy\u001b[0m \u001b[0;32mas\u001b[0m \u001b[0mnp\u001b[0m\u001b[0;34m\u001b[0m\u001b[0;34m\u001b[0m\u001b[0m\n\u001b[0;32m----> 2\u001b[0;31m \u001b[0;32mimport\u001b[0m \u001b[0mskfuzzy\u001b[0m \u001b[0;32mas\u001b[0m \u001b[0mfuzz\u001b[0m\u001b[0;34m\u001b[0m\u001b[0;34m\u001b[0m\u001b[0m\n\u001b[0m\u001b[1;32m      3\u001b[0m \u001b[0;32mfrom\u001b[0m \u001b[0mskfuzzy\u001b[0m \u001b[0;32mimport\u001b[0m \u001b[0mcontrol\u001b[0m \u001b[0;32mas\u001b[0m \u001b[0mctrl\u001b[0m\u001b[0;34m\u001b[0m\u001b[0;34m\u001b[0m\u001b[0m\n\u001b[1;32m      4\u001b[0m \u001b[0;32mimport\u001b[0m \u001b[0mmatplotlib\u001b[0m\u001b[0;34m.\u001b[0m\u001b[0mpyplot\u001b[0m \u001b[0;32mas\u001b[0m \u001b[0mplt\u001b[0m\u001b[0;34m\u001b[0m\u001b[0;34m\u001b[0m\u001b[0m\n\u001b[1;32m      5\u001b[0m \u001b[0;34m\u001b[0m\u001b[0m\n",
            "\u001b[0;31mModuleNotFoundError\u001b[0m: No module named 'skfuzzy'",
            "",
            "\u001b[0;31m---------------------------------------------------------------------------\u001b[0;32m\nNOTE: If your import is failing due to a missing package, you can\nmanually install dependencies using either !pip or !apt.\n\nTo view examples of installing some common dependencies, click the\n\"Open Examples\" button below.\n\u001b[0;31m---------------------------------------------------------------------------\u001b[0m\n"
          ],
          "errorDetails": {
            "actions": [
              {
                "action": "open_url",
                "actionText": "Open Examples",
                "url": "/notebooks/snippets/importing_libraries.ipynb"
              }
            ]
          }
        }
      ],
      "source": [
        "import numpy as np\n",
        "import skfuzzy as fuzz\n",
        "from skfuzzy import control as ctrl\n",
        "import matplotlib.pyplot as plt\n",
        "\n",
        "# Define input variables\n",
        "pH = ctrl.Antecedent(np.arange(0, 15, 1), 'pH')\n",
        "turbidity = ctrl.Antecedent(np.arange(0, 101, 1), 'turbidity')\n",
        "dissolved_oxygen = ctrl.Antecedent(np.arange(0, 15, 1), 'dissolved_oxygen')\n",
        "\n",
        "# Define output variable\n",
        "water_quality = ctrl.Consequent(np.arange(0, 101, 1), 'water_quality')\n",
        "\n",
        "# Membership functions for pH\n",
        "pH['acidic'] = fuzz.trimf(pH.universe, [0, 0, 7])\n",
        "pH['neutral'] = fuzz.trimf(pH.universe, [6, 7, 8])\n",
        "pH['alkaline'] = fuzz.trimf(pH.universe, [7, 15, 15])\n",
        "\n",
        "# Membership functions for turbidity\n",
        "turbidity['low'] = fuzz.trimf(turbidity.universe, [0, 0, 20])\n",
        "turbidity['moderate'] = fuzz.trimf(turbidity.universe, [10, 20, 30])\n",
        "turbidity['high'] = fuzz.trimf(turbidity.universe, [20, 100, 100])\n",
        "\n",
        "# Membership functions for dissolved oxygen\n",
        "dissolved_oxygen['low'] = fuzz.trimf(dissolved_oxygen.universe, [0, 0, 5])\n",
        "dissolved_oxygen['acceptable'] = fuzz.trimf(dissolved_oxygen.universe, [4, 6, 8])\n",
        "dissolved_oxygen['high'] = fuzz.trimf(dissolved_oxygen.universe, [8, 15, 15])\n",
        "\n",
        "# Membership functions for water quality\n",
        "water_quality['poor'] = fuzz.trimf(water_quality.universe, [0, 0, 50])\n",
        "water_quality['average'] = fuzz.trimf(water_quality.universe, [25, 50, 75])\n",
        "water_quality['excellent'] = fuzz.trimf(water_quality.universe, [50, 100, 100])\n",
        "\n",
        "# Define fuzzy rules\n",
        "rule1 = ctrl.Rule(pH['acidic'] & turbidity['high'], water_quality['poor'])\n",
        "rule2 = ctrl.Rule(pH['neutral'] & turbidity['moderate'] & dissolved_oxygen['acceptable'], water_quality['average'])\n",
        "rule3 = ctrl.Rule(pH['alkaline'] & turbidity['low'] & dissolved_oxygen['high'], water_quality['excellent'])\n",
        "\n",
        "# Create control system and simulation\n",
        "water_quality_ctrl = ctrl.ControlSystem([rule1, rule2, rule3])\n",
        "water_quality_sim = ctrl.ControlSystemSimulation(water_quality_ctrl)\n",
        "\n",
        "# Example inputs\n",
        "water_quality_sim.input['pH'] = 7\n",
        "water_quality_sim.input['turbidity'] = 15\n",
        "water_quality_sim.input['dissolved_oxygen'] = 9\n",
        "\n",
        "# Compute the output\n",
        "water_quality_sim.compute()\n",
        "\n",
        "# Display the output\n",
        "print(f\"Water Quality Score: {water_quality_sim.output['water_quality']}\")\n",
        "\n",
        "# Visualize the membership functions\n",
        "pH.view()\n",
        "turbidity.view()\n",
        "dissolved_oxygen.view()\n",
        "water_quality.view()\n",
        "\n",
        "plt.show()"
      ]
    }
  ]
}